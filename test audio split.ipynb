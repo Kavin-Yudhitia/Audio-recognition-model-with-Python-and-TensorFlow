{
 "cells": [
  {
   "cell_type": "code",
   "execution_count": 1,
   "id": "6326f520",
   "metadata": {
    "scrolled": true
   },
   "outputs": [
    {
     "name": "stdout",
     "output_type": "stream",
     "text": [
      "Collecting pydub\n",
      "  Downloading pydub-0.25.1-py2.py3-none-any.whl (32 kB)\n",
      "Installing collected packages: pydub\n",
      "Successfully installed pydub-0.25.1\n"
     ]
    },
    {
     "name": "stderr",
     "output_type": "stream",
     "text": [
      "\n",
      "[notice] A new release of pip available: 22.3 -> 22.3.1\n",
      "[notice] To update, run: python.exe -m pip install --upgrade pip\n"
     ]
    }
   ],
   "source": [
    "!pip install pydub"
   ]
  },
  {
   "cell_type": "code",
   "execution_count": 33,
   "id": "eaba6adf",
   "metadata": {},
   "outputs": [],
   "source": [
    "from pydub import AudioSegment\n",
    "t1 = 1 * 1000 #Works in milliseconds\n",
    "t2 = 4 * 1000\n",
    "\n",
    "export_folder = r'test result'\n",
    "newAudio  = AudioSegment.from_mp3('test water.mp3')\n",
    "newAudio = newAudio[t1:t2]\n",
    "output = newAudio.export(export_folder+r'\\new song 3.wav', format=\"wav\")\n",
    "output.close()"
   ]
  },
  {
   "cell_type": "code",
   "execution_count": 41,
   "id": "b72fbba5",
   "metadata": {},
   "outputs": [],
   "source": [
    "from pydub import AudioSegment\n",
    "t1 = 1 * 1000 #Works in milliseconds\n",
    "t2 = 4 * 1000\n",
    "\n",
    "input_folder = r'test input folder'\n",
    "\n",
    "export_folder = r'test result'\n",
    "newAudio  = AudioSegment.from_wav(input_folder+r'\\CantinaBand3.wav')\n",
    "newAudio = newAudio[t1:t2]\n",
    "output = newAudio.export(export_folder+r'\\new song 3.wav', format=\"wav\")\n",
    "output.close()"
   ]
  },
  {
   "cell_type": "code",
   "execution_count": 20,
   "id": "8d5255b1",
   "metadata": {},
   "outputs": [],
   "source": [
    "# the test works!!\n",
    "# now try to read CSV and split based on CSV files"
   ]
  },
  {
   "cell_type": "code",
   "execution_count": 21,
   "id": "d26eeb1e",
   "metadata": {},
   "outputs": [
    {
     "data": {
      "text/html": [
       "<div>\n",
       "<style scoped>\n",
       "    .dataframe tbody tr th:only-of-type {\n",
       "        vertical-align: middle;\n",
       "    }\n",
       "\n",
       "    .dataframe tbody tr th {\n",
       "        vertical-align: top;\n",
       "    }\n",
       "\n",
       "    .dataframe thead th {\n",
       "        text-align: right;\n",
       "    }\n",
       "</style>\n",
       "<table border=\"1\" class=\"dataframe\">\n",
       "  <thead>\n",
       "    <tr style=\"text-align: right;\">\n",
       "      <th></th>\n",
       "      <th>file</th>\n",
       "      <th>start</th>\n",
       "      <th>stop</th>\n",
       "      <th>water</th>\n",
       "    </tr>\n",
       "  </thead>\n",
       "  <tbody>\n",
       "    <tr>\n",
       "      <th>0</th>\n",
       "      <td>audio_1</td>\n",
       "      <td>0.0</td>\n",
       "      <td>1.2</td>\n",
       "      <td>0</td>\n",
       "    </tr>\n",
       "    <tr>\n",
       "      <th>1</th>\n",
       "      <td>audio_1</td>\n",
       "      <td>1.2</td>\n",
       "      <td>3.0</td>\n",
       "      <td>1</td>\n",
       "    </tr>\n",
       "    <tr>\n",
       "      <th>2</th>\n",
       "      <td>audio_1</td>\n",
       "      <td>3.0</td>\n",
       "      <td>4.0</td>\n",
       "      <td>0</td>\n",
       "    </tr>\n",
       "    <tr>\n",
       "      <th>3</th>\n",
       "      <td>audio_1</td>\n",
       "      <td>4.0</td>\n",
       "      <td>6.0</td>\n",
       "      <td>1</td>\n",
       "    </tr>\n",
       "  </tbody>\n",
       "</table>\n",
       "</div>"
      ],
      "text/plain": [
       "      file  start  stop  water\n",
       "0  audio_1    0.0   1.2      0\n",
       "1  audio_1    1.2   3.0      1\n",
       "2  audio_1    3.0   4.0      0\n",
       "3  audio_1    4.0   6.0      1"
      ]
     },
     "execution_count": 21,
     "metadata": {},
     "output_type": "execute_result"
    }
   ],
   "source": [
    "import pandas as pd\n",
    "\n",
    "df = pd.read_csv('time stamp.csv')\n",
    "df"
   ]
  },
  {
   "cell_type": "code",
   "execution_count": 38,
   "id": "8f07b992",
   "metadata": {
    "scrolled": true
   },
   "outputs": [
    {
     "name": "stdout",
     "output_type": "stream",
     "text": [
      "audio_1_0.0_1.2\n",
      "audio_1_1.2_3.0\n",
      "audio_1_3.0_4.0\n",
      "audio_1_4.0_6.0\n"
     ]
    }
   ],
   "source": [
    "for index, row in df.iterrows():\n",
    "    file_name = row['file']+'_'+str(row['start'])+'_'+str(row['stop'])\n",
    "    print(file_name)"
   ]
  },
  {
   "cell_type": "code",
   "execution_count": 43,
   "id": "813425d7",
   "metadata": {},
   "outputs": [],
   "source": [
    "# let's make the function to split audio file to a new file\n",
    "def split_audio(input_file_path, start_time, stop_time, output_file_path):\n",
    "    t1 = start_time * 1000 #Works in milliseconds\n",
    "    t2 = stop_time * 1000\n",
    "\n",
    "    newAudio  = AudioSegment.from_wav(input_file_path)\n",
    "    newAudio = newAudio[t1:t2]\n",
    "    output = newAudio.export(output_file_path, format=\"wav\")\n",
    "    output.close()"
   ]
  },
  {
   "cell_type": "code",
   "execution_count": 62,
   "id": "403d171a",
   "metadata": {},
   "outputs": [],
   "source": [
    "input_folder = 'test input folder'\n",
    "output_folder = 'test result'\n",
    "input_file = 'audio_1'\n",
    "\n",
    "split_audio(input_folder+'\\\\'+input_file+'.wav', 1,2,output_folder+r'\\hihihi.wav')"
   ]
  },
  {
   "cell_type": "code",
   "execution_count": 69,
   "id": "e27302d3",
   "metadata": {},
   "outputs": [],
   "source": [
    "# ok the pandas read rows work, now try to iterate each and output the file in the folder\n",
    "import pandas as pd\n",
    "from pydub import AudioSegment\n",
    "\n",
    "df = pd.read_csv('time stamp.csv')\n",
    "\n",
    "input_folder = r'test input folder'\n",
    "output_folder = r'test result'\n",
    "\n",
    "for index, row in df.iterrows():\n",
    "    output_file_name = row['file']+'_'+str(row['start'])+'_'+str(row['stop'])\n",
    "    if row['water'] == 1:\n",
    "        split_audio(input_folder+'\\\\'+row['file']+'.wav', row['start'], row['stop'], output_folder+'\\\\positive\\\\'+output_file_name+'.wav')\n",
    "    else:\n",
    "        split_audio(input_folder+'\\\\'+row['file']+'.wav', row['start'], row['stop'], output_folder+'\\\\negative\\\\'+output_file_name+'.wav')\n",
    "        \n",
    "    \n",
    "# this worksss! it split each audio file to positive and negative folder"
   ]
  },
  {
   "cell_type": "code",
   "execution_count": null,
   "id": "6cc61fc3",
   "metadata": {},
   "outputs": [],
   "source": []
  }
 ],
 "metadata": {
  "kernelspec": {
   "display_name": "Python 3",
   "language": "python",
   "name": "python3"
  },
  "language_info": {
   "codemirror_mode": {
    "name": "ipython",
    "version": 3
   },
   "file_extension": ".py",
   "mimetype": "text/x-python",
   "name": "python",
   "nbconvert_exporter": "python",
   "pygments_lexer": "ipython3",
   "version": "3.8.8"
  }
 },
 "nbformat": 4,
 "nbformat_minor": 5
}
