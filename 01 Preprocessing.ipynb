{
 "cells": [
  {
   "cell_type": "markdown",
   "id": "2839a737",
   "metadata": {},
   "source": [
    "# Preprocessing file format, #channel, and sample rate"
   ]
  },
  {
   "cell_type": "code",
   "execution_count": 83,
   "id": "5be7e002",
   "metadata": {},
   "outputs": [],
   "source": [
    "# use pydub to convert all file to wav\n",
    "\n",
    "from pydub import AudioSegment\n",
    "AUDIO_FILE_PATH = 'test_pydub'\n",
    "audio_file = 'test water mp3.mp3'\n",
    "file_path = pathlib.Path(AUDIO_FILE_PATH+'/'+audio_file)\n",
    "\n",
    "mp3_audio = AudioSegment.from_file(file_path, format=\"mp3\")"
   ]
  },
  {
   "cell_type": "code",
   "execution_count": null,
   "id": "9aa3e1d4",
   "metadata": {
    "scrolled": true
   },
   "outputs": [],
   "source": [
    "mp3_audio"
   ]
  },
  {
   "cell_type": "code",
   "execution_count": 54,
   "id": "0081376a",
   "metadata": {
    "scrolled": true
   },
   "outputs": [
    {
     "name": "stdout",
     "output_type": "stream",
     "text": [
      "44100 1 \n"
     ]
    }
   ],
   "source": [
    "print(f'{mp3_audio.frame_rate} {mp3_audio.channels} ')"
   ]
  },
  {
   "cell_type": "code",
   "execution_count": 60,
   "id": "d9d2daa8",
   "metadata": {},
   "outputs": [],
   "source": [
    "mp3_audio_mono = mp3_audio.set_channels(2)\n",
    "mp3_audio_mono_16k = mp3_audio_mono.set_frame_rate(16000)"
   ]
  },
  {
   "cell_type": "code",
   "execution_count": 61,
   "id": "345e7d0c",
   "metadata": {},
   "outputs": [],
   "source": [
    "output_file_name = 'output2.wav'\n",
    "output = mp3_audio_mono_16k.export(pathlib.Path(AUDIO_FILE_PATH+'/'+output_file_name), \n",
    "                      format = \"wav\",\n",
    "                     )\n",
    "output.close()"
   ]
  },
  {
   "cell_type": "code",
   "execution_count": 62,
   "id": "bee9bc4e",
   "metadata": {},
   "outputs": [],
   "source": [
    "#check the output\n",
    "AUDIO_FILE_PATH = 'test_pydub'\n",
    "audio_file = 'output2.wav'\n",
    "file_path = pathlib.Path(AUDIO_FILE_PATH+'/'+audio_file)\n",
    "\n",
    "wav_audio = AudioSegment.from_file(file_path, format=\"wav\")"
   ]
  },
  {
   "cell_type": "code",
   "execution_count": 63,
   "id": "d2cdc336",
   "metadata": {},
   "outputs": [
    {
     "name": "stdout",
     "output_type": "stream",
     "text": [
      "16000 2 \n"
     ]
    }
   ],
   "source": [
    "print(f'{wav_audio.frame_rate} {wav_audio.channels} ')"
   ]
  },
  {
   "cell_type": "markdown",
   "id": "4be3eacf",
   "metadata": {},
   "source": [
    "#### OK, so better to create separate function. one is for change everything to wav, and the other is to change the wav to correct channel and frame rate"
   ]
  },
  {
   "cell_type": "code",
   "execution_count": 115,
   "id": "90bc0a11",
   "metadata": {
    "scrolled": true
   },
   "outputs": [
    {
     "data": {
      "text/plain": [
       "['non water sound sample.m4a',\n",
       " 'non water sound sample.wav',\n",
       " 'preprocessed_non water sound sample.wav',\n",
       " 'preprocessed_water sound sample.wav',\n",
       " 'test data water and non_water.m4a',\n",
       " 'water sound sample.m4a',\n",
       " 'water sound sample.wav']"
      ]
     },
     "execution_count": 115,
     "metadata": {},
     "output_type": "execute_result"
    }
   ],
   "source": [
    "# get all non-wav audio file in the folder\n",
    "\n",
    "import os\n",
    "import pathlib\n",
    "\n",
    "# AUDIO_FILE_PATH = 'test_pydub'\n",
    "AUDIO_FILE_PATH = 'test_1_home_recorded/test_pydub'\n",
    "\n",
    "audio_file_dir = pathlib.Path(AUDIO_FILE_PATH)\n",
    "dir_list = os.listdir(audio_file_dir)\n",
    "dir_list"
   ]
  },
  {
   "cell_type": "code",
   "execution_count": 116,
   "id": "aa375e4a",
   "metadata": {
    "scrolled": true
   },
   "outputs": [
    {
     "data": {
      "text/plain": [
       "['non water sound sample.m4a',\n",
       " 'test data water and non_water.m4a',\n",
       " 'water sound sample.m4a']"
      ]
     },
     "execution_count": 116,
     "metadata": {},
     "output_type": "execute_result"
    }
   ],
   "source": [
    "non_wav_files = list(filter(lambda x: \".wav\" not in x, dir_list))\n",
    "non_wav_files"
   ]
  },
  {
   "cell_type": "code",
   "execution_count": 117,
   "id": "47a94986",
   "metadata": {},
   "outputs": [],
   "source": [
    "for non_wav_file in non_wav_files:\n",
    "    non_wav_audio = AudioSegment.from_file(pathlib.Path(AUDIO_FILE_PATH+'/'+non_wav_file), format=non_wav_file[-3:])\n",
    "    output = non_wav_audio.export(pathlib.Path(AUDIO_FILE_PATH+'/'+non_wav_file[:-3]+'wav'), format = \"wav\")\n",
    "    output.close()\n",
    "\n",
    "# it works, all non wav now turned in to wav"
   ]
  },
  {
   "cell_type": "code",
   "execution_count": 122,
   "id": "5c05546b",
   "metadata": {
    "scrolled": true
   },
   "outputs": [
    {
     "data": {
      "text/plain": [
       "['non water sound sample.wav',\n",
       " 'test data water and non_water.wav',\n",
       " 'water sound sample.wav']"
      ]
     },
     "execution_count": 122,
     "metadata": {},
     "output_type": "execute_result"
    }
   ],
   "source": [
    "# now, get all wav files, and change them to correct channel and frame rate\n",
    "dir_list = os.listdir(audio_file_dir) # need to do listdir again\n",
    "wav_files = list(filter(lambda x: (\".wav\" in x) and (\"preprocessed_\" not in x), dir_list))\n",
    "wav_files"
   ]
  },
  {
   "cell_type": "code",
   "execution_count": 119,
   "id": "1ad223d1",
   "metadata": {},
   "outputs": [],
   "source": [
    "forile wav_f in wav_files:\n",
    "    wav_audio = AudioSegment.from_file(pathlib.Path(AUDIO_FILE_PATH+'/'+wav_file), format=\"wav\")\n",
    "    wav_audio = wav_audio.set_channels(1)\n",
    "    wav_audio = wav_audio.set_frame_rate(16000)\n",
    "    output = wav_audio.export(pathlib.Path(AUDIO_FILE_PATH+'/preprocessed_'+wav_file), format = \"wav\")\n",
    "    output.close()"
   ]
  },
  {
   "cell_type": "code",
   "execution_count": 120,
   "id": "988eb621",
   "metadata": {},
   "outputs": [
    {
     "data": {
      "text/plain": [
       "['preprocessed_non water sound sample.wav',\n",
       " 'preprocessed_preprocessed_non water sound sample.wav',\n",
       " 'preprocessed_preprocessed_water sound sample.wav',\n",
       " 'preprocessed_test data water and non_water.wav',\n",
       " 'preprocessed_water sound sample.wav']"
      ]
     },
     "execution_count": 120,
     "metadata": {},
     "output_type": "execute_result"
    }
   ],
   "source": [
    "# double check that everything is on right channels and frame rate\n",
    "dir_list = os.listdir(audio_file_dir) # need to do listdir again\n",
    "preprocessed_wav_files = list(filter(lambda x: \"preprocessed_\" in x, dir_list))\n",
    "preprocessed_wav_files"
   ]
  },
  {
   "cell_type": "code",
   "execution_count": 121,
   "id": "0f5564e9",
   "metadata": {
    "scrolled": false
   },
   "outputs": [
    {
     "name": "stdout",
     "output_type": "stream",
     "text": [
      "preprocessed_non water sound sample.wav 1 16000\n",
      "preprocessed_preprocessed_non water sound sample.wav 1 16000\n",
      "preprocessed_preprocessed_water sound sample.wav 1 16000\n",
      "preprocessed_test data water and non_water.wav 1 16000\n",
      "preprocessed_water sound sample.wav 1 16000\n"
     ]
    }
   ],
   "source": [
    "for wav_file in preprocessed_wav_files:\n",
    "    wav_audio = AudioSegment.from_file(pathlib.Path(AUDIO_FILE_PATH+'/'+wav_file), format=\"wav\")\n",
    "    print(f'{wav_file} {wav_audio.channels} {wav_audio.frame_rate}')"
   ]
  },
  {
   "cell_type": "code",
   "execution_count": null,
   "id": "6a4900c3",
   "metadata": {},
   "outputs": [],
   "source": [
    "# it works, we now have converted all files to correct format #channel, and sample rate"
   ]
  },
  {
   "cell_type": "markdown",
   "id": "6c17c52e",
   "metadata": {},
   "source": [
    "# Preprocessing Sample Dataset"
   ]
  },
  {
   "cell_type": "code",
   "execution_count": 3,
   "id": "ec23bc46",
   "metadata": {},
   "outputs": [
    {
     "data": {
      "text/plain": [
       "['time stamp 01.csv', 'time stamp 02.csv']"
      ]
     },
     "execution_count": 3,
     "metadata": {},
     "output_type": "execute_result"
    }
   ],
   "source": [
    "# get all timestamp csv file in the folder\n",
    "\n",
    "import os\n",
    "import pathlib\n",
    "\n",
    "TIMESTAMP_PATH = 'timestamp'\n",
    "\n",
    "timestamp_dir = pathlib.Path(TIMESTAMP_PATH)\n",
    "dir_list = os.listdir(timestamp_dir)\n",
    "dir_list"
   ]
  },
  {
   "cell_type": "code",
   "execution_count": 6,
   "id": "374e6596",
   "metadata": {},
   "outputs": [
    {
     "data": {
      "text/html": [
       "<div>\n",
       "<style scoped>\n",
       "    .dataframe tbody tr th:only-of-type {\n",
       "        vertical-align: middle;\n",
       "    }\n",
       "\n",
       "    .dataframe tbody tr th {\n",
       "        vertical-align: top;\n",
       "    }\n",
       "\n",
       "    .dataframe thead th {\n",
       "        text-align: right;\n",
       "    }\n",
       "</style>\n",
       "<table border=\"1\" class=\"dataframe\">\n",
       "  <thead>\n",
       "    <tr style=\"text-align: right;\">\n",
       "      <th></th>\n",
       "      <th>file</th>\n",
       "      <th>start</th>\n",
       "      <th>stop</th>\n",
       "      <th>water</th>\n",
       "    </tr>\n",
       "  </thead>\n",
       "  <tbody>\n",
       "    <tr>\n",
       "      <th>0</th>\n",
       "      <td>audio_2</td>\n",
       "      <td>0.0</td>\n",
       "      <td>0.7</td>\n",
       "      <td>0</td>\n",
       "    </tr>\n",
       "    <tr>\n",
       "      <th>1</th>\n",
       "      <td>audio_2</td>\n",
       "      <td>0.7</td>\n",
       "      <td>1.0</td>\n",
       "      <td>1</td>\n",
       "    </tr>\n",
       "    <tr>\n",
       "      <th>2</th>\n",
       "      <td>audio_2</td>\n",
       "      <td>1.0</td>\n",
       "      <td>1.5</td>\n",
       "      <td>0</td>\n",
       "    </tr>\n",
       "    <tr>\n",
       "      <th>3</th>\n",
       "      <td>audio_2</td>\n",
       "      <td>1.5</td>\n",
       "      <td>2.0</td>\n",
       "      <td>1</td>\n",
       "    </tr>\n",
       "  </tbody>\n",
       "</table>\n",
       "</div>"
      ],
      "text/plain": [
       "      file  start  stop  water\n",
       "0  audio_2    0.0   0.7      0\n",
       "1  audio_2    0.7   1.0      1\n",
       "2  audio_2    1.0   1.5      0\n",
       "3  audio_2    1.5   2.0      1"
      ]
     },
     "execution_count": 6,
     "metadata": {},
     "output_type": "execute_result"
    }
   ],
   "source": [
    "import pandas as pd\n",
    "\n",
    "df = pd.read_csv(pathlib.Path(TIMESTAMP_PATH+'/'+dir_list[1]))\n",
    "df\n",
    "\n",
    "#OK this works to look at timestamp_path and dir"
   ]
  },
  {
   "cell_type": "code",
   "execution_count": 3,
   "id": "1fc86b6e",
   "metadata": {},
   "outputs": [],
   "source": [
    "# let's make the function to split audio file to a new file\n",
    "from pydub import AudioSegment\n",
    "\n",
    "def split_audio(input_file_path, start_time, stop_time, output_file_path):\n",
    "    t1 = start_time * 1000 #Works in milliseconds\n",
    "    t2 = stop_time * 1000\n",
    "\n",
    "    newAudio  = AudioSegment.from_wav(input_file_path)\n",
    "    newAudio = newAudio[t1:t2]\n",
    "    output = newAudio.export(output_file_path, format=\"wav\")\n",
    "    output.close()"
   ]
  },
  {
   "cell_type": "code",
   "execution_count": 30,
   "id": "a645cb9e",
   "metadata": {},
   "outputs": [
    {
     "data": {
      "text/plain": [
       "[0.7]"
      ]
     },
     "execution_count": 30,
     "metadata": {},
     "output_type": "execute_result"
    }
   ],
   "source": [
    "import numpy as np\n",
    "np.arange(0.7, 1.0, 0.5).tolist()"
   ]
  },
  {
   "cell_type": "code",
   "execution_count": 31,
   "id": "e9e5cb82",
   "metadata": {},
   "outputs": [
    {
     "name": "stdout",
     "output_type": "stream",
     "text": [
      "Start: 0.0 Stop: 0.7\n",
      "0.0 0.5\n",
      "0.5 0.7\n",
      "Start: 0.7 Stop: 1.0\n",
      "0.7 1.0\n",
      "Start: 1.0 Stop: 1.5\n",
      "1.0 1.5\n",
      "Start: 1.5 Stop: 2.0\n",
      "1.5 2.0\n"
     ]
    }
   ],
   "source": [
    "# try to split again the audio based on split length\n",
    "import numpy as np\n",
    "SPLIT_LENGTH = 0.5\n",
    "\n",
    "for index, row in df.iterrows():\n",
    "    start_split_time = np.arange(row['start'], row['stop'], SPLIT_LENGTH).tolist()\n",
    "    stop_split_time = start_split_time[1:]+[row['stop']]\n",
    "    print (f\"Start: {row['start']} Stop: {row['stop']}\")\n",
    "    for start, stop in list(zip(start_split_time, stop_split_time)):\n",
    "        print (f'{start} {stop}')\n",
    "    \n",
    "    \n",
    "    \n",
    "# print(start_split_time)\n",
    "# print(stop_split_time)\n",
    "# print(list(zip(start_split_time, stop_split_time)))\n",
    "\n",
    "# OK it works"
   ]
  },
  {
   "cell_type": "code",
   "execution_count": 32,
   "id": "7b83babf",
   "metadata": {},
   "outputs": [
    {
     "name": "stdout",
     "output_type": "stream",
     "text": [
      "Start: 0.0 Stop: 0.7\n",
      "0.0 0.5\n",
      "0.5 0.7\n",
      "Start: 0.7 Stop: 1.0\n",
      "0.7 1.0\n",
      "Start: 1.0 Stop: 1.5\n",
      "1.0 1.5\n",
      "Start: 1.5 Stop: 2.0\n",
      "1.5 2.0\n"
     ]
    }
   ],
   "source": [
    "# ok the pandas read rows work, now try to iterate each and output the file in the folder\n",
    "import pandas as pd\n",
    "from pydub import AudioSegment\n",
    "\n",
    "input_folder = r'test input folder'\n",
    "output_folder = r'test result'\n",
    "\n",
    "\n",
    "df = pd.read_csv(TIMESTAMP_PATH+'/'+dir_list[1])\n",
    "\n",
    "for index, row in df.iterrows():\n",
    "    start_split_time = np.arange(row['start'], row['stop'], SPLIT_LENGTH).tolist()\n",
    "    stop_split_time = start_split_time[1:]+[row['stop']]\n",
    "    print (f\"Start: {row['start']} Stop: {row['stop']}\")\n",
    "    for start, stop in list(zip(start_split_time, stop_split_time)):\n",
    "        print (f'{start} {stop}')    \n",
    "        output_file_name = row['file']+'_'+str(start)+'_'+str(stop)\n",
    "        if row['water'] == 1:\n",
    "            split_audio(input_folder+'\\\\'+row['file']+'.wav', start, stop, output_folder+'\\\\water\\\\'+output_file_name+'.wav')\n",
    "        else:\n",
    "            split_audio(input_folder+'\\\\'+row['file']+'.wav', start, stop, output_folder+'\\\\non_water\\\\'+output_file_name+'.wav')\n",
    "        \n",
    "    \n",
    "# this worksss! it split each audio file to water and non_water folder"
   ]
  },
  {
   "cell_type": "code",
   "execution_count": 114,
   "id": "adb814df",
   "metadata": {
    "scrolled": false
   },
   "outputs": [
    {
     "name": "stdout",
     "output_type": "stream",
     "text": [
      "CSV file: time stamp 01.csv\n",
      "  audio file: preprocessed_non water sound sample  Start: 0 Stop: 21\n",
      "    non_water\n",
      "      0.0 0.5\n",
      "      0.5 1.0\n",
      "      1.0 1.5\n",
      "      1.5 2.0\n",
      "      2.0 2.5\n",
      "      2.5 3.0\n",
      "      3.0 3.5\n",
      "      3.5 4.0\n",
      "      4.0 4.5\n",
      "      4.5 5.0\n",
      "      5.0 5.5\n",
      "      5.5 6.0\n",
      "      6.0 6.5\n",
      "      6.5 7.0\n",
      "      7.0 7.5\n",
      "      7.5 8.0\n",
      "      8.0 8.5\n",
      "      8.5 9.0\n",
      "      9.0 9.5\n",
      "      9.5 10.0\n",
      "      10.0 10.5\n",
      "      10.5 11.0\n",
      "      11.0 11.5\n",
      "      11.5 12.0\n",
      "      12.0 12.5\n",
      "      12.5 13.0\n",
      "      13.0 13.5\n",
      "      13.5 14.0\n",
      "      14.0 14.5\n",
      "      14.5 15.0\n",
      "      15.0 15.5\n",
      "      15.5 16.0\n",
      "      16.0 16.5\n",
      "      16.5 17.0\n",
      "      17.0 17.5\n",
      "      17.5 18.0\n",
      "      18.0 18.5\n",
      "      18.5 19.0\n",
      "      19.0 19.5\n",
      "      19.5 20.0\n",
      "      20.0 20.5\n",
      "      20.5 21\n",
      "CSV file: time stamp 02.csv\n",
      "  audio file: preprocessed_water sound sample  Start: 0 Stop: 27\n",
      "    water\n",
      "      0.0 0.5\n",
      "      0.5 1.0\n",
      "      1.0 1.5\n",
      "      1.5 2.0\n",
      "      2.0 2.5\n",
      "      2.5 3.0\n",
      "      3.0 3.5\n",
      "      3.5 4.0\n",
      "      4.0 4.5\n",
      "      4.5 5.0\n",
      "      5.0 5.5\n",
      "      5.5 6.0\n",
      "      6.0 6.5\n",
      "      6.5 7.0\n",
      "      7.0 7.5\n",
      "      7.5 8.0\n",
      "      8.0 8.5\n",
      "      8.5 9.0\n",
      "      9.0 9.5\n",
      "      9.5 10.0\n",
      "      10.0 10.5\n",
      "      10.5 11.0\n",
      "      11.0 11.5\n",
      "      11.5 12.0\n",
      "      12.0 12.5\n",
      "      12.5 13.0\n",
      "      13.0 13.5\n",
      "      13.5 14.0\n",
      "      14.0 14.5\n",
      "      14.5 15.0\n",
      "      15.0 15.5\n",
      "      15.5 16.0\n",
      "      16.0 16.5\n",
      "      16.5 17.0\n",
      "      17.0 17.5\n",
      "      17.5 18.0\n",
      "      18.0 18.5\n",
      "      18.5 19.0\n",
      "      19.0 19.5\n",
      "      19.5 20.0\n",
      "      20.0 20.5\n",
      "      20.5 21.0\n",
      "      21.0 21.5\n",
      "      21.5 22.0\n",
      "      22.0 22.5\n",
      "      22.5 23.0\n",
      "      23.0 23.5\n",
      "      23.5 24.0\n",
      "      24.0 24.5\n",
      "      24.5 25.0\n",
      "      25.0 25.5\n",
      "      25.5 26.0\n",
      "      26.0 26.5\n",
      "      26.5 27\n"
     ]
    }
   ],
   "source": [
    "# now expand the functionality it to reading each CSV files. This is for sample dataset\n",
    "#need to manually create the folder , including water and nonwater folder\n",
    "\n",
    "# ok the pandas read rows work, now try to iterate each and output the file in the folder\n",
    "import pandas as pd\n",
    "from pydub import AudioSegment\n",
    "import os\n",
    "import pathlib\n",
    "import numpy as np\n",
    "\n",
    "# TIMESTAMP_PATH = 'timestamp'\n",
    "# sample_dataset_folder = r'test_sample_dataset'\n",
    "# split_sample_dataset_folder = r'test_split_sample_dataset'\n",
    "\n",
    "TIMESTAMP_PATH = 'test_1_home_recorded/timestamp'\n",
    "sample_dataset_folder = r'test_1_home_recorded\\test_sample_dataset'\n",
    "split_sample_dataset_folder = r'test_1_home_recorded\\test_split_sample_dataset'\n",
    "\n",
    "\n",
    "SPLIT_LENGTH = 0.5\n",
    "\n",
    "\n",
    "timestamp_dir = pathlib.Path(TIMESTAMP_PATH)\n",
    "dir_list = os.listdir(timestamp_dir)\n",
    "\n",
    "for csv_file in dir_list: \n",
    "    df = pd.read_csv(TIMESTAMP_PATH+'/'+csv_file)\n",
    "    print(f\"CSV file: {csv_file}\")\n",
    "    for index, row in df.iterrows():\n",
    "        start_split_time = np.arange(row['start'], row['stop'], SPLIT_LENGTH).tolist()\n",
    "        stop_split_time = start_split_time[1:]+[row['stop']]\n",
    "        print (f\"  audio file: {row['file']}  Start: {row['start']} Stop: {row['stop']}\")\n",
    "        if row['water'] == 1:\n",
    "            print(f'    water')\n",
    "        else:\n",
    "            print(f'    non_water')\n",
    "        for start, stop in list(zip(start_split_time, stop_split_time)):\n",
    "            print (f'      {start} {stop}')\n",
    "            output_file_name = row['file']+'_'+str(start)+'_'+str(stop)\n",
    "            if row['water'] == 1:\n",
    "                split_audio(sample_dataset_folder+'\\\\'+row['file']+'.wav', start, stop, split_sample_dataset_folder+'\\\\water\\\\'+output_file_name+'.wav')\n",
    "            else:\n",
    "                split_audio(sample_dataset_folder+'\\\\'+row['file']+'.wav', start, stop, split_sample_dataset_folder+'\\\\non_water\\\\'+output_file_name+'.wav')\n",
    "    \n"
   ]
  },
  {
   "cell_type": "code",
   "execution_count": 101,
   "id": "fdfc6097",
   "metadata": {},
   "outputs": [],
   "source": [
    "# we got everything splitted"
   ]
  },
  {
   "cell_type": "markdown",
   "id": "9ef13aa4",
   "metadata": {},
   "source": [
    "# Preprocessing Test Dataset"
   ]
  },
  {
   "cell_type": "code",
   "execution_count": 125,
   "id": "844cf2a5",
   "metadata": {},
   "outputs": [
    {
     "name": "stdout",
     "output_type": "stream",
     "text": [
      "35.5033125\n"
     ]
    }
   ],
   "source": [
    "# Above is for sample dataset. for the test dataset, we just need to split them as per the SPLIT_LENGTH\n",
    "# find a way to know how long is the audio file\n",
    "\n",
    "from pydub import AudioSegment\n",
    "\n",
    "# test_dataset_folder = r'test_test_dataset'\n",
    "# split_test_dataset_folder = r'test_split_test_dataset'\n",
    "\n",
    "test_dataset_folder = r'test_1_home_recorded\\test_test_dataset'\n",
    "split_test_dataset_folder = r'test_1_home_recorded\\test_split_test_dataset'\n",
    "\n",
    "# audio_file = \"test_1.wav\"\n",
    "audio_file = \"preprocessed_test data water and non_water.wav\"\n",
    "file_path = pathlib.Path(test_dataset_folder+\"/\"+audio_file)\n",
    "\n",
    "audio = AudioSegment.from_file(file_path)\n",
    "print(audio.duration_seconds)\n",
    "\n",
    "#OK got the way to know how long the audio file is"
   ]
  },
  {
   "cell_type": "code",
   "execution_count": 126,
   "id": "cd4448be",
   "metadata": {},
   "outputs": [
    {
     "data": {
      "text/plain": [
       "[(0.0, 0.5),\n",
       " (0.5, 1.0),\n",
       " (1.0, 1.5),\n",
       " (1.5, 2.0),\n",
       " (2.0, 2.5),\n",
       " (2.5, 3.0),\n",
       " (3.0, 3.5),\n",
       " (3.5, 4.0),\n",
       " (4.0, 4.5),\n",
       " (4.5, 5.0),\n",
       " (5.0, 5.5),\n",
       " (5.5, 6.0),\n",
       " (6.0, 6.5),\n",
       " (6.5, 7.0),\n",
       " (7.0, 7.5),\n",
       " (7.5, 8.0),\n",
       " (8.0, 8.5),\n",
       " (8.5, 9.0),\n",
       " (9.0, 9.5),\n",
       " (9.5, 10.0),\n",
       " (10.0, 10.5),\n",
       " (10.5, 11.0),\n",
       " (11.0, 11.5),\n",
       " (11.5, 12.0),\n",
       " (12.0, 12.5),\n",
       " (12.5, 13.0),\n",
       " (13.0, 13.5),\n",
       " (13.5, 14.0),\n",
       " (14.0, 14.5),\n",
       " (14.5, 15.0),\n",
       " (15.0, 15.5),\n",
       " (15.5, 16.0),\n",
       " (16.0, 16.5),\n",
       " (16.5, 17.0),\n",
       " (17.0, 17.5),\n",
       " (17.5, 18.0),\n",
       " (18.0, 18.5),\n",
       " (18.5, 19.0),\n",
       " (19.0, 19.5),\n",
       " (19.5, 20.0),\n",
       " (20.0, 20.5),\n",
       " (20.5, 21.0),\n",
       " (21.0, 21.5),\n",
       " (21.5, 22.0),\n",
       " (22.0, 22.5),\n",
       " (22.5, 23.0),\n",
       " (23.0, 23.5),\n",
       " (23.5, 24.0),\n",
       " (24.0, 24.5),\n",
       " (24.5, 25.0),\n",
       " (25.0, 25.5),\n",
       " (25.5, 26.0),\n",
       " (26.0, 26.5),\n",
       " (26.5, 27.0),\n",
       " (27.0, 27.5),\n",
       " (27.5, 28.0),\n",
       " (28.0, 28.5),\n",
       " (28.5, 29.0),\n",
       " (29.0, 29.5),\n",
       " (29.5, 30.0),\n",
       " (30.0, 30.5),\n",
       " (30.5, 31.0),\n",
       " (31.0, 31.5),\n",
       " (31.5, 32.0),\n",
       " (32.0, 32.5),\n",
       " (32.5, 33.0),\n",
       " (33.0, 33.5),\n",
       " (33.5, 34.0),\n",
       " (34.0, 34.5),\n",
       " (34.5, 35.0),\n",
       " (35.0, 35.5),\n",
       " (35.5, 35.5033125)]"
      ]
     },
     "execution_count": 126,
     "metadata": {},
     "output_type": "execute_result"
    }
   ],
   "source": [
    "start_split_time = np.arange(0.0, audio.duration_seconds, SPLIT_LENGTH).tolist()\n",
    "stop_split_time = start_split_time[1:]+[audio.duration_seconds]\n",
    "\n",
    "list(zip(start_split_time, stop_split_time))\n",
    "\n",
    "#OK, got the start and stop split time"
   ]
  },
  {
   "cell_type": "code",
   "execution_count": 127,
   "id": "15cf7b47",
   "metadata": {},
   "outputs": [
    {
     "name": "stdout",
     "output_type": "stream",
     "text": [
      "index: 0 start: 0.0 stop: 0.5\n",
      "index: 1 start: 0.5 stop: 1.0\n",
      "index: 2 start: 1.0 stop: 1.5\n",
      "index: 3 start: 1.5 stop: 2.0\n",
      "index: 4 start: 2.0 stop: 2.5\n",
      "index: 5 start: 2.5 stop: 3.0\n",
      "index: 6 start: 3.0 stop: 3.5\n",
      "index: 7 start: 3.5 stop: 4.0\n",
      "index: 8 start: 4.0 stop: 4.5\n",
      "index: 9 start: 4.5 stop: 5.0\n",
      "index: 10 start: 5.0 stop: 5.5\n",
      "index: 11 start: 5.5 stop: 6.0\n",
      "index: 12 start: 6.0 stop: 6.5\n",
      "index: 13 start: 6.5 stop: 7.0\n",
      "index: 14 start: 7.0 stop: 7.5\n",
      "index: 15 start: 7.5 stop: 8.0\n",
      "index: 16 start: 8.0 stop: 8.5\n",
      "index: 17 start: 8.5 stop: 9.0\n",
      "index: 18 start: 9.0 stop: 9.5\n",
      "index: 19 start: 9.5 stop: 10.0\n",
      "index: 20 start: 10.0 stop: 10.5\n",
      "index: 21 start: 10.5 stop: 11.0\n",
      "index: 22 start: 11.0 stop: 11.5\n",
      "index: 23 start: 11.5 stop: 12.0\n",
      "index: 24 start: 12.0 stop: 12.5\n",
      "index: 25 start: 12.5 stop: 13.0\n",
      "index: 26 start: 13.0 stop: 13.5\n",
      "index: 27 start: 13.5 stop: 14.0\n",
      "index: 28 start: 14.0 stop: 14.5\n",
      "index: 29 start: 14.5 stop: 15.0\n",
      "index: 30 start: 15.0 stop: 15.5\n",
      "index: 31 start: 15.5 stop: 16.0\n",
      "index: 32 start: 16.0 stop: 16.5\n",
      "index: 33 start: 16.5 stop: 17.0\n",
      "index: 34 start: 17.0 stop: 17.5\n",
      "index: 35 start: 17.5 stop: 18.0\n",
      "index: 36 start: 18.0 stop: 18.5\n",
      "index: 37 start: 18.5 stop: 19.0\n",
      "index: 38 start: 19.0 stop: 19.5\n",
      "index: 39 start: 19.5 stop: 20.0\n",
      "index: 40 start: 20.0 stop: 20.5\n",
      "index: 41 start: 20.5 stop: 21.0\n",
      "index: 42 start: 21.0 stop: 21.5\n",
      "index: 43 start: 21.5 stop: 22.0\n",
      "index: 44 start: 22.0 stop: 22.5\n",
      "index: 45 start: 22.5 stop: 23.0\n",
      "index: 46 start: 23.0 stop: 23.5\n",
      "index: 47 start: 23.5 stop: 24.0\n",
      "index: 48 start: 24.0 stop: 24.5\n",
      "index: 49 start: 24.5 stop: 25.0\n",
      "index: 50 start: 25.0 stop: 25.5\n",
      "index: 51 start: 25.5 stop: 26.0\n",
      "index: 52 start: 26.0 stop: 26.5\n",
      "index: 53 start: 26.5 stop: 27.0\n",
      "index: 54 start: 27.0 stop: 27.5\n",
      "index: 55 start: 27.5 stop: 28.0\n",
      "index: 56 start: 28.0 stop: 28.5\n",
      "index: 57 start: 28.5 stop: 29.0\n",
      "index: 58 start: 29.0 stop: 29.5\n",
      "index: 59 start: 29.5 stop: 30.0\n",
      "index: 60 start: 30.0 stop: 30.5\n",
      "index: 61 start: 30.5 stop: 31.0\n",
      "index: 62 start: 31.0 stop: 31.5\n",
      "index: 63 start: 31.5 stop: 32.0\n",
      "index: 64 start: 32.0 stop: 32.5\n",
      "index: 65 start: 32.5 stop: 33.0\n",
      "index: 66 start: 33.0 stop: 33.5\n",
      "index: 67 start: 33.5 stop: 34.0\n",
      "index: 68 start: 34.0 stop: 34.5\n",
      "index: 69 start: 34.5 stop: 35.0\n",
      "index: 70 start: 35.0 stop: 35.5\n",
      "index: 71 start: 35.5 stop: 35.5033125\n"
     ]
    }
   ],
   "source": [
    "for idx, elem in enumerate(list(zip(start_split_time, stop_split_time))):\n",
    "    print(f\"index: {idx} start: {elem[0]} stop: {elem[1]}\")\n",
    "\n",
    "#ok it works."
   ]
  },
  {
   "cell_type": "code",
   "execution_count": 128,
   "id": "3e72f3a7",
   "metadata": {},
   "outputs": [
    {
     "data": {
      "text/plain": [
       "['preprocessed_test data water and non_water.wav']"
      ]
     },
     "execution_count": 128,
     "metadata": {},
     "output_type": "execute_result"
    }
   ],
   "source": [
    "# now let's get the all of the file name \n",
    "\n",
    "test_dataset_dir = pathlib.Path(test_dataset_folder)\n",
    "dir_list = os.listdir(test_dataset_dir)\n",
    "dir_list"
   ]
  },
  {
   "cell_type": "code",
   "execution_count": 133,
   "id": "f4ea1ca7",
   "metadata": {},
   "outputs": [
    {
     "name": "stdout",
     "output_type": "stream",
     "text": [
      "audio file = preprocessed_test data water and non_water.wav\n",
      "  index: 0 start: 0.0 stop: 0.5 output_file_name: preprocessed_test data water and non_water_0.wav\n",
      "  index: 1 start: 0.5 stop: 1.0 output_file_name: preprocessed_test data water and non_water_1.wav\n",
      "  index: 2 start: 1.0 stop: 1.5 output_file_name: preprocessed_test data water and non_water_2.wav\n",
      "  index: 3 start: 1.5 stop: 2.0 output_file_name: preprocessed_test data water and non_water_3.wav\n",
      "  index: 4 start: 2.0 stop: 2.5 output_file_name: preprocessed_test data water and non_water_4.wav\n",
      "  index: 5 start: 2.5 stop: 3.0 output_file_name: preprocessed_test data water and non_water_5.wav\n",
      "  index: 6 start: 3.0 stop: 3.5 output_file_name: preprocessed_test data water and non_water_6.wav\n",
      "  index: 7 start: 3.5 stop: 4.0 output_file_name: preprocessed_test data water and non_water_7.wav\n",
      "  index: 8 start: 4.0 stop: 4.5 output_file_name: preprocessed_test data water and non_water_8.wav\n",
      "  index: 9 start: 4.5 stop: 5.0 output_file_name: preprocessed_test data water and non_water_9.wav\n",
      "  index: 10 start: 5.0 stop: 5.5 output_file_name: preprocessed_test data water and non_water_10.wav\n",
      "  index: 11 start: 5.5 stop: 6.0 output_file_name: preprocessed_test data water and non_water_11.wav\n",
      "  index: 12 start: 6.0 stop: 6.5 output_file_name: preprocessed_test data water and non_water_12.wav\n",
      "  index: 13 start: 6.5 stop: 7.0 output_file_name: preprocessed_test data water and non_water_13.wav\n",
      "  index: 14 start: 7.0 stop: 7.5 output_file_name: preprocessed_test data water and non_water_14.wav\n",
      "  index: 15 start: 7.5 stop: 8.0 output_file_name: preprocessed_test data water and non_water_15.wav\n",
      "  index: 16 start: 8.0 stop: 8.5 output_file_name: preprocessed_test data water and non_water_16.wav\n",
      "  index: 17 start: 8.5 stop: 9.0 output_file_name: preprocessed_test data water and non_water_17.wav\n",
      "  index: 18 start: 9.0 stop: 9.5 output_file_name: preprocessed_test data water and non_water_18.wav\n",
      "  index: 19 start: 9.5 stop: 10.0 output_file_name: preprocessed_test data water and non_water_19.wav\n",
      "  index: 20 start: 10.0 stop: 10.5 output_file_name: preprocessed_test data water and non_water_20.wav\n",
      "  index: 21 start: 10.5 stop: 11.0 output_file_name: preprocessed_test data water and non_water_21.wav\n",
      "  index: 22 start: 11.0 stop: 11.5 output_file_name: preprocessed_test data water and non_water_22.wav\n",
      "  index: 23 start: 11.5 stop: 12.0 output_file_name: preprocessed_test data water and non_water_23.wav\n",
      "  index: 24 start: 12.0 stop: 12.5 output_file_name: preprocessed_test data water and non_water_24.wav\n",
      "  index: 25 start: 12.5 stop: 13.0 output_file_name: preprocessed_test data water and non_water_25.wav\n",
      "  index: 26 start: 13.0 stop: 13.5 output_file_name: preprocessed_test data water and non_water_26.wav\n",
      "  index: 27 start: 13.5 stop: 14.0 output_file_name: preprocessed_test data water and non_water_27.wav\n",
      "  index: 28 start: 14.0 stop: 14.5 output_file_name: preprocessed_test data water and non_water_28.wav\n",
      "  index: 29 start: 14.5 stop: 15.0 output_file_name: preprocessed_test data water and non_water_29.wav\n",
      "  index: 30 start: 15.0 stop: 15.5 output_file_name: preprocessed_test data water and non_water_30.wav\n",
      "  index: 31 start: 15.5 stop: 16.0 output_file_name: preprocessed_test data water and non_water_31.wav\n",
      "  index: 32 start: 16.0 stop: 16.5 output_file_name: preprocessed_test data water and non_water_32.wav\n",
      "  index: 33 start: 16.5 stop: 17.0 output_file_name: preprocessed_test data water and non_water_33.wav\n",
      "  index: 34 start: 17.0 stop: 17.5 output_file_name: preprocessed_test data water and non_water_34.wav\n",
      "  index: 35 start: 17.5 stop: 18.0 output_file_name: preprocessed_test data water and non_water_35.wav\n",
      "  index: 36 start: 18.0 stop: 18.5 output_file_name: preprocessed_test data water and non_water_36.wav\n",
      "  index: 37 start: 18.5 stop: 19.0 output_file_name: preprocessed_test data water and non_water_37.wav\n",
      "  index: 38 start: 19.0 stop: 19.5 output_file_name: preprocessed_test data water and non_water_38.wav\n",
      "  index: 39 start: 19.5 stop: 20.0 output_file_name: preprocessed_test data water and non_water_39.wav\n",
      "  index: 40 start: 20.0 stop: 20.5 output_file_name: preprocessed_test data water and non_water_40.wav\n",
      "  index: 41 start: 20.5 stop: 21.0 output_file_name: preprocessed_test data water and non_water_41.wav\n",
      "  index: 42 start: 21.0 stop: 21.5 output_file_name: preprocessed_test data water and non_water_42.wav\n",
      "  index: 43 start: 21.5 stop: 22.0 output_file_name: preprocessed_test data water and non_water_43.wav\n",
      "  index: 44 start: 22.0 stop: 22.5 output_file_name: preprocessed_test data water and non_water_44.wav\n",
      "  index: 45 start: 22.5 stop: 23.0 output_file_name: preprocessed_test data water and non_water_45.wav\n",
      "  index: 46 start: 23.0 stop: 23.5 output_file_name: preprocessed_test data water and non_water_46.wav\n",
      "  index: 47 start: 23.5 stop: 24.0 output_file_name: preprocessed_test data water and non_water_47.wav\n",
      "  index: 48 start: 24.0 stop: 24.5 output_file_name: preprocessed_test data water and non_water_48.wav\n",
      "  index: 49 start: 24.5 stop: 25.0 output_file_name: preprocessed_test data water and non_water_49.wav\n",
      "  index: 50 start: 25.0 stop: 25.5 output_file_name: preprocessed_test data water and non_water_50.wav\n",
      "  index: 51 start: 25.5 stop: 26.0 output_file_name: preprocessed_test data water and non_water_51.wav\n",
      "  index: 52 start: 26.0 stop: 26.5 output_file_name: preprocessed_test data water and non_water_52.wav\n",
      "  index: 53 start: 26.5 stop: 27.0 output_file_name: preprocessed_test data water and non_water_53.wav\n",
      "  index: 54 start: 27.0 stop: 27.5 output_file_name: preprocessed_test data water and non_water_54.wav\n",
      "  index: 55 start: 27.5 stop: 28.0 output_file_name: preprocessed_test data water and non_water_55.wav\n",
      "  index: 56 start: 28.0 stop: 28.5 output_file_name: preprocessed_test data water and non_water_56.wav\n",
      "  index: 57 start: 28.5 stop: 29.0 output_file_name: preprocessed_test data water and non_water_57.wav\n",
      "  index: 58 start: 29.0 stop: 29.5 output_file_name: preprocessed_test data water and non_water_58.wav\n",
      "  index: 59 start: 29.5 stop: 30.0 output_file_name: preprocessed_test data water and non_water_59.wav\n",
      "  index: 60 start: 30.0 stop: 30.5 output_file_name: preprocessed_test data water and non_water_60.wav\n",
      "  index: 61 start: 30.5 stop: 31.0 output_file_name: preprocessed_test data water and non_water_61.wav\n",
      "  index: 62 start: 31.0 stop: 31.5 output_file_name: preprocessed_test data water and non_water_62.wav\n",
      "  index: 63 start: 31.5 stop: 32.0 output_file_name: preprocessed_test data water and non_water_63.wav\n",
      "  index: 64 start: 32.0 stop: 32.5 output_file_name: preprocessed_test data water and non_water_64.wav\n",
      "  index: 65 start: 32.5 stop: 33.0 output_file_name: preprocessed_test data water and non_water_65.wav\n",
      "  index: 66 start: 33.0 stop: 33.5 output_file_name: preprocessed_test data water and non_water_66.wav\n",
      "  index: 67 start: 33.5 stop: 34.0 output_file_name: preprocessed_test data water and non_water_67.wav\n",
      "  index: 68 start: 34.0 stop: 34.5 output_file_name: preprocessed_test data water and non_water_68.wav\n",
      "  index: 69 start: 34.5 stop: 35.0 output_file_name: preprocessed_test data water and non_water_69.wav\n",
      "  index: 70 start: 35.0 stop: 35.5 output_file_name: preprocessed_test data water and non_water_70.wav\n",
      "  index: 71 start: 35.5 stop: 35.5033125 output_file_name: preprocessed_test data water and non_water_71.wav\n"
     ]
    }
   ],
   "source": [
    "#now, let's combine it all\n",
    "\n",
    "test_dataset_dict = {'file': [], 'split': [], 'start': [], 'stop': []}\n",
    "\n",
    "for audio_file in dir_list:\n",
    "    file_path = pathlib.Path(test_dataset_folder+\"/\"+audio_file)\n",
    "    audio = AudioSegment.from_file(file_path)\n",
    "    print(f\"audio file = {audio_file}\")\n",
    "    start_split_time = np.arange(0.0, audio.duration_seconds, SPLIT_LENGTH).tolist()\n",
    "    stop_split_time = start_split_time[1:]+[audio.duration_seconds]\n",
    "    for idx, elem in enumerate(list(zip(start_split_time, stop_split_time))):\n",
    "        output_file_name = audio_file[:-4] + \"_\" + str(idx) + \".wav\"\n",
    "        print(f\"  index: {idx} start: {elem[0]} stop: {elem[1]} output_file_name: {output_file_name}\")\n",
    "        split_audio(test_dataset_folder+'\\\\'+audio_file, elem[0], elem[1], split_test_dataset_folder+\"\\\\\"+output_file_name)\n",
    "        test_dataset_dict['file'].append(audio_file[:-4]) \n",
    "        test_dataset_dict['split'].append(output_file_name[:-4]) \n",
    "        test_dataset_dict['start'].append(elem[0]) \n",
    "        test_dataset_dict['stop'].append(elem[1]) \n",
    "\n",
    "# print(test_dataset_dict)"
   ]
  },
  {
   "cell_type": "code",
   "execution_count": 134,
   "id": "80f45ed2",
   "metadata": {},
   "outputs": [
    {
     "data": {
      "text/html": [
       "<div>\n",
       "<style scoped>\n",
       "    .dataframe tbody tr th:only-of-type {\n",
       "        vertical-align: middle;\n",
       "    }\n",
       "\n",
       "    .dataframe tbody tr th {\n",
       "        vertical-align: top;\n",
       "    }\n",
       "\n",
       "    .dataframe thead th {\n",
       "        text-align: right;\n",
       "    }\n",
       "</style>\n",
       "<table border=\"1\" class=\"dataframe\">\n",
       "  <thead>\n",
       "    <tr style=\"text-align: right;\">\n",
       "      <th></th>\n",
       "      <th>file</th>\n",
       "      <th>split</th>\n",
       "      <th>start</th>\n",
       "      <th>stop</th>\n",
       "    </tr>\n",
       "  </thead>\n",
       "  <tbody>\n",
       "    <tr>\n",
       "      <th>0</th>\n",
       "      <td>preprocessed_test data water and non_water</td>\n",
       "      <td>preprocessed_test data water and non_water_0</td>\n",
       "      <td>0.0</td>\n",
       "      <td>0.500000</td>\n",
       "    </tr>\n",
       "    <tr>\n",
       "      <th>1</th>\n",
       "      <td>preprocessed_test data water and non_water</td>\n",
       "      <td>preprocessed_test data water and non_water_1</td>\n",
       "      <td>0.5</td>\n",
       "      <td>1.000000</td>\n",
       "    </tr>\n",
       "    <tr>\n",
       "      <th>2</th>\n",
       "      <td>preprocessed_test data water and non_water</td>\n",
       "      <td>preprocessed_test data water and non_water_2</td>\n",
       "      <td>1.0</td>\n",
       "      <td>1.500000</td>\n",
       "    </tr>\n",
       "    <tr>\n",
       "      <th>3</th>\n",
       "      <td>preprocessed_test data water and non_water</td>\n",
       "      <td>preprocessed_test data water and non_water_3</td>\n",
       "      <td>1.5</td>\n",
       "      <td>2.000000</td>\n",
       "    </tr>\n",
       "    <tr>\n",
       "      <th>4</th>\n",
       "      <td>preprocessed_test data water and non_water</td>\n",
       "      <td>preprocessed_test data water and non_water_4</td>\n",
       "      <td>2.0</td>\n",
       "      <td>2.500000</td>\n",
       "    </tr>\n",
       "    <tr>\n",
       "      <th>...</th>\n",
       "      <td>...</td>\n",
       "      <td>...</td>\n",
       "      <td>...</td>\n",
       "      <td>...</td>\n",
       "    </tr>\n",
       "    <tr>\n",
       "      <th>67</th>\n",
       "      <td>preprocessed_test data water and non_water</td>\n",
       "      <td>preprocessed_test data water and non_water_67</td>\n",
       "      <td>33.5</td>\n",
       "      <td>34.000000</td>\n",
       "    </tr>\n",
       "    <tr>\n",
       "      <th>68</th>\n",
       "      <td>preprocessed_test data water and non_water</td>\n",
       "      <td>preprocessed_test data water and non_water_68</td>\n",
       "      <td>34.0</td>\n",
       "      <td>34.500000</td>\n",
       "    </tr>\n",
       "    <tr>\n",
       "      <th>69</th>\n",
       "      <td>preprocessed_test data water and non_water</td>\n",
       "      <td>preprocessed_test data water and non_water_69</td>\n",
       "      <td>34.5</td>\n",
       "      <td>35.000000</td>\n",
       "    </tr>\n",
       "    <tr>\n",
       "      <th>70</th>\n",
       "      <td>preprocessed_test data water and non_water</td>\n",
       "      <td>preprocessed_test data water and non_water_70</td>\n",
       "      <td>35.0</td>\n",
       "      <td>35.500000</td>\n",
       "    </tr>\n",
       "    <tr>\n",
       "      <th>71</th>\n",
       "      <td>preprocessed_test data water and non_water</td>\n",
       "      <td>preprocessed_test data water and non_water_71</td>\n",
       "      <td>35.5</td>\n",
       "      <td>35.503312</td>\n",
       "    </tr>\n",
       "  </tbody>\n",
       "</table>\n",
       "<p>72 rows × 4 columns</p>\n",
       "</div>"
      ],
      "text/plain": [
       "                                          file  \\\n",
       "0   preprocessed_test data water and non_water   \n",
       "1   preprocessed_test data water and non_water   \n",
       "2   preprocessed_test data water and non_water   \n",
       "3   preprocessed_test data water and non_water   \n",
       "4   preprocessed_test data water and non_water   \n",
       "..                                         ...   \n",
       "67  preprocessed_test data water and non_water   \n",
       "68  preprocessed_test data water and non_water   \n",
       "69  preprocessed_test data water and non_water   \n",
       "70  preprocessed_test data water and non_water   \n",
       "71  preprocessed_test data water and non_water   \n",
       "\n",
       "                                            split  start       stop  \n",
       "0    preprocessed_test data water and non_water_0    0.0   0.500000  \n",
       "1    preprocessed_test data water and non_water_1    0.5   1.000000  \n",
       "2    preprocessed_test data water and non_water_2    1.0   1.500000  \n",
       "3    preprocessed_test data water and non_water_3    1.5   2.000000  \n",
       "4    preprocessed_test data water and non_water_4    2.0   2.500000  \n",
       "..                                            ...    ...        ...  \n",
       "67  preprocessed_test data water and non_water_67   33.5  34.000000  \n",
       "68  preprocessed_test data water and non_water_68   34.0  34.500000  \n",
       "69  preprocessed_test data water and non_water_69   34.5  35.000000  \n",
       "70  preprocessed_test data water and non_water_70   35.0  35.500000  \n",
       "71  preprocessed_test data water and non_water_71   35.5  35.503312  \n",
       "\n",
       "[72 rows x 4 columns]"
      ]
     },
     "execution_count": 134,
     "metadata": {},
     "output_type": "execute_result"
    }
   ],
   "source": [
    "test_dataset_df = pd.DataFrame.from_dict(test_dataset_dict)\n",
    "test_dataset_df"
   ]
  },
  {
   "cell_type": "code",
   "execution_count": 135,
   "id": "9208ff34",
   "metadata": {},
   "outputs": [],
   "source": [
    "test_dataset_df.to_csv(\"test_dataset_df.csv\")"
   ]
  },
  {
   "cell_type": "code",
   "execution_count": 102,
   "id": "d155bcf3",
   "metadata": {},
   "outputs": [],
   "source": [
    "# we got everything splitted"
   ]
  },
  {
   "cell_type": "code",
   "execution_count": null,
   "id": "709b8226",
   "metadata": {},
   "outputs": [],
   "source": []
  }
 ],
 "metadata": {
  "kernelspec": {
   "display_name": "Python 3",
   "language": "python",
   "name": "python3"
  },
  "language_info": {
   "codemirror_mode": {
    "name": "ipython",
    "version": 3
   },
   "file_extension": ".py",
   "mimetype": "text/x-python",
   "name": "python",
   "nbconvert_exporter": "python",
   "pygments_lexer": "ipython3",
   "version": "3.8.8"
  }
 },
 "nbformat": 4,
 "nbformat_minor": 5
}
